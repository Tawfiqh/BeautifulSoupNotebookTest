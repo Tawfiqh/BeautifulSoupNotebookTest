{
 "cells": [
  {
   "cell_type": "markdown",
   "metadata": {},
   "source": [
    "# Get Code Snippets from Mozilla page\n",
    "\n",
    "We want to be able to see how to call websockets from a client application but all the code blocks are split up on the web-page itself.\n",
    "\n",
    "This simple script just extracts all the JS code from the page and outputs it here so that it can easily be copied to some JS source code and run."
   ]
  },
  {
   "cell_type": "code",
   "execution_count": 13,
   "metadata": {},
   "outputs": [
    {
     "name": "stdout",
     "output_type": "stream",
     "text": [
      "None\n",
      "var exampleSocket = new WebSocket(\"wss://www.example.com/socketserver\", \"protocolOne\");\n",
      "\n",
      "var exampleSocket = new WebSocket(\"wss://www.example.com/socketserver\", [\"protocolOne\", \"protocolTwo\"]);\n",
      "\n",
      "exampleSocket.send(\"Here's some text that the server is urgently awaiting!\"); \n",
      "\n",
      "exampleSocket.onopen = function (event) {\n",
      "  exampleSocket.send(\"Here's some text that the server is urgently awaiting!\"); \n",
      "};\n",
      "\n",
      "// Send text to all users through the server\n",
      "function sendText() {\n",
      "  // Construct a msg object containing the data the server needs to process the message from the chat client.\n",
      "  var msg = {\n",
      "    type: \"message\",\n",
      "    text: document.getElementById(\"text\").value,\n",
      "    id:   clientID,\n",
      "    date: Date.now()\n",
      "  };\n",
      "\n",
      "  // Send the msg object as a JSON-formatted string.\n",
      "  exampleSocket.send(JSON.stringify(msg));\n",
      "  \n",
      "  // Blank the text input element, ready to receive the next line of text from the user.\n",
      "  document.getElementById(\"text\").value = \"\";\n",
      "} \n",
      "\n",
      "exampleSocket.onmessage = function (event) {\n",
      "  console.log(event.data);\n",
      "}\n",
      "\n",
      "exampleSocket.onmessage = function(event) {\n",
      "  var f = document.getElementById(\"chatbox\").contentDocument;\n",
      "  var text = \"\";\n",
      "  var msg = JSON.parse(event.data);\n",
      "  var time = new Date(msg.date);\n",
      "  var timeStr = time.toLocaleTimeString();\n",
      "  \n",
      "  switch(msg.type) {\n",
      "    case \"id\":\n",
      "      clientID = msg.id;\n",
      "      setUsername();\n",
      "      break;\n",
      "    case \"username\":\n",
      "      text = \"<b>User <em>\" + msg.name + \"</em> signed in at \" + timeStr + \"</b><br>\";\n",
      "      break;\n",
      "    case \"message\":\n",
      "      text = \"(\" + timeStr + \") <b>\" + msg.name + \"</b>: \" + msg.text + \"<br>\";\n",
      "      break;\n",
      "    case \"rejectusername\":\n",
      "      text = \"<b>Your username has been set to <em>\" + msg.name + \"</em> because the name you chose is in use.</b><br>\"\n",
      "      break;\n",
      "    case \"userlist\":\n",
      "      var ul = \"\";\n",
      "      for (i=0; i < msg.users.length; i++) {\n",
      "        ul += msg.users[i] + \"<br>\";\n",
      "      }\n",
      "      document.getElementById(\"userlistbox\").innerHTML = ul;\n",
      "      break;\n",
      "  }\n",
      "  \n",
      "  if (text.length) {\n",
      "    f.write(text);\n",
      "    document.getElementById(\"chatbox\").contentWindow.scrollByPages(1);\n",
      "  }\n",
      "};\n",
      "\n",
      "exampleSocket.close();\n",
      "\n"
     ]
    }
   ],
   "source": [
    "from bs4 import BeautifulSoup\n",
    "\n",
    "import requests\n",
    "\n",
    "url = \"https://developer.mozilla.org/en-US/docs/Web/API/WebSockets_API/Writing_WebSocket_client_applications\"\n",
    "\n",
    "r  = requests.get(url)\n",
    "\n",
    "data = r.text\n",
    "\n",
    "soup = BeautifulSoup(data)\n",
    "\n",
    "for link in soup.find_all('pre'):\n",
    "    print(link.string)"
   ]
  },
  {
   "cell_type": "code",
   "execution_count": null,
   "metadata": {},
   "outputs": [],
   "source": []
  }
 ],
 "metadata": {
  "kernelspec": {
   "display_name": "Python 3",
   "language": "python",
   "name": "python3"
  },
  "language_info": {
   "codemirror_mode": {
    "name": "ipython",
    "version": 3
   },
   "file_extension": ".py",
   "mimetype": "text/x-python",
   "name": "python",
   "nbconvert_exporter": "python",
   "pygments_lexer": "ipython3",
   "version": "3.7.3"
  }
 },
 "nbformat": 4,
 "nbformat_minor": 2
}
